{
 "metadata": {
  "language_info": {
   "codemirror_mode": {
    "name": "ipython",
    "version": 3
   },
   "file_extension": ".py",
   "mimetype": "text/x-python",
   "name": "python",
   "nbconvert_exporter": "python",
   "pygments_lexer": "ipython3",
   "version": "3.8.5-final"
  },
  "orig_nbformat": 2,
  "kernelspec": {
   "name": "python3",
   "display_name": "Python 3"
  }
 },
 "nbformat": 4,
 "nbformat_minor": 2,
 "cells": [
  {
   "cell_type": "code",
   "execution_count": 1,
   "metadata": {},
   "outputs": [
    {
     "output_type": "stream",
     "name": "stdout",
     "text": [
      "Requirement already satisfied: tweepy in /home/suree/.local/lib/python3.8/site-packages (3.9.0)\nRequirement already satisfied: six>=1.10.0 in /usr/lib/python3/dist-packages (from tweepy) (1.14.0)\nRequirement already satisfied: requests-oauthlib>=0.7.0 in /home/suree/.local/lib/python3.8/site-packages (from tweepy) (1.3.0)\nRequirement already satisfied: requests[socks]>=2.11.1 in /usr/lib/python3/dist-packages (from tweepy) (2.22.0)\nRequirement already satisfied: oauthlib>=3.0.0 in /usr/lib/python3/dist-packages (from requests-oauthlib>=0.7.0->tweepy) (3.1.0)\nRequirement already satisfied: PySocks!=1.5.7,>=1.5.6 in /home/suree/.local/lib/python3.8/site-packages (from requests[socks]>=2.11.1->tweepy) (1.7.1)\n"
     ]
    }
   ],
   "source": [
    "!pip3 install tweepy"
   ]
  },
  {
   "cell_type": "code",
   "execution_count": 2,
   "metadata": {},
   "outputs": [],
   "source": [
    "import tweepy\n",
    "\n",
    "CK = \"TXNqxXBPleGVaiaADTFtExEjP\"  # Consumer key\n",
    "CS = \"SeiperIaqwssdInX9LClBPfpKeeqi3nY32ur0p7EFbMZRgP0J9\"  # Consumer secret\n",
    "AT = \"972830233253445633-4ZMbbSNGurouSa7FOb1NR1i972hgbv7\"  # Access token\n",
    "ATS = \"lms33b0Z4Nv6sIKByEf96FYsq3hLDSq1zDsKNSEmb6dCz\"  # Access token secret\n",
    "\n",
    "cursor = -1\n",
    "while cursor != 0:\n",
    "    auth = tweepy.OAuthHandler(CK, CS)\n",
    "    auth.set_access_token(AT, ATS)\n",
    "    api = tweepy.API(auth, wait_on_rate_limit = True)"
   ]
  }
 ]
}